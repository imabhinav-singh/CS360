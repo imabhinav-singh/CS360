{
  "nbformat": 4,
  "nbformat_minor": 0,
  "metadata": {
    "colab": {
      "name": "Assignment0.ipynb",
      "provenance": [],
      "collapsed_sections": [],
      "authorship_tag": "ABX9TyMSxhB2ETmFLwZ7TXAjNJqf",
      "include_colab_link": true
    },
    "kernelspec": {
      "name": "python3",
      "display_name": "Python 3"
    }
  },
  "cells": [
    {
      "cell_type": "markdown",
      "metadata": {
        "id": "view-in-github",
        "colab_type": "text"
      },
      "source": [
        "<a href=\"https://colab.research.google.com/github/imabhinav-singh/CS360/blob/master/Assignment0.ipynb\" target=\"_parent\"><img src=\"https://colab.research.google.com/assets/colab-badge.svg\" alt=\"Open In Colab\"/></a>"
      ]
    },
    {
      "cell_type": "code",
      "metadata": {
        "id": "Zit6IxJg-rTS",
        "colab_type": "code",
        "colab": {
          "base_uri": "https://localhost:8080/",
          "height": 34
        },
        "outputId": "048642fd-c2fc-4f17-dc57-dabd6d21baca"
      },
      "source": [
        "import platform\n",
        "print(platform.python_version())"
      ],
      "execution_count": 1,
      "outputs": [
        {
          "output_type": "stream",
          "text": [
            "3.6.9\n"
          ],
          "name": "stdout"
        }
      ]
    },
    {
      "cell_type": "code",
      "metadata": {
        "id": "Zei4ILOu--vy",
        "colab_type": "code",
        "colab": {
          "base_uri": "https://localhost:8080/",
          "height": 68
        },
        "outputId": "0506fb5d-dd29-4d9d-d086-274b1148c348"
      },
      "source": [
        "import site\n",
        "site.getsitepackages()"
      ],
      "execution_count": 2,
      "outputs": [
        {
          "output_type": "execute_result",
          "data": {
            "text/plain": [
              "['/usr/local/lib/python3.6/dist-packages',\n",
              " '/usr/lib/python3/dist-packages',\n",
              " '/usr/lib/python3.6/dist-packages']"
            ]
          },
          "metadata": {
            "tags": []
          },
          "execution_count": 2
        }
      ]
    },
    {
      "cell_type": "code",
      "metadata": {
        "id": "W9nE2WpfAMOr",
        "colab_type": "code",
        "colab": {
          "base_uri": "https://localhost:8080/",
          "height": 51
        },
        "outputId": "cc140f51-c522-4c37-991c-af2a30e583e0"
      },
      "source": [
        "import inspect, os\n",
        "print(inspect.getfile(inspect.currentframe()))\n",
        "print(os.path.dirname(os.path.abspath(inspect.getfile(inspect.currentframe()))))"
      ],
      "execution_count": 14,
      "outputs": [
        {
          "output_type": "stream",
          "text": [
            "<ipython-input-14-999536cf70d4>\n",
            "/content\n"
          ],
          "name": "stdout"
        }
      ]
    },
    {
      "cell_type": "code",
      "metadata": {
        "id": "G1d3x1X7C9P9",
        "colab_type": "code",
        "colab": {
          "base_uri": "https://localhost:8080/",
          "height": 34
        },
        "outputId": "cf5a3424-dbec-4972-9cf1-66e51604bc92"
      },
      "source": [
        "import random\n",
        "\n",
        "def randomMatrixMult():\n",
        "  #create matrices\n",
        "  arr_A = [[0 for i in range(3)] for i in range(2)]\n",
        "  arr_B = [[0 for i in range(2)] for i in range(3)]\n",
        "  arr_C = [[0 for i in range(2)] for i in range(2)]\n",
        "\n",
        "  #generate random values\n",
        "  for i in range(2):\n",
        "    for j in range(3):\n",
        "      arr_A[i][j] = random.randint(1, 50)\n",
        "  for i in range(3):\n",
        "    for j in range(2):\n",
        "      arr_B[i][j] = random.randint(1, 50)\n",
        "\n",
        "  #multiplication of matrices\n",
        "  for i in range(2):\n",
        "    for j in range(2):\n",
        "      for k in range(3):\n",
        "        arr_C[i][j] += arr_A[i][k]*arr_B[k][j]\n",
        "\n",
        "  return arr_C\n",
        "\n",
        "def main():\n",
        "  print(randomMatrixMult())\n",
        "\n",
        "if __name__ == \"__main__\":\n",
        "  main()"
      ],
      "execution_count": 27,
      "outputs": [
        {
          "output_type": "stream",
          "text": [
            "[[2127, 2664], [1388, 1786]]\n"
          ],
          "name": "stdout"
        }
      ]
    },
    {
      "cell_type": "code",
      "metadata": {
        "id": "L4Q6kwplHOb_",
        "colab_type": "code",
        "colab": {
          "base_uri": "https://localhost:8080/",
          "height": 34
        },
        "outputId": "fc694c3b-1a4f-406b-e468-7134eb728805"
      },
      "source": [
        "def addMatrix(A, B):\n",
        "  arr_C = [[0 for i in range(len(A))] for j in range(len(A[0]))]\n",
        "\n",
        "  for i in range(len(A)):\n",
        "    for j in range(len(A[0])):\n",
        "      arr_C[i][j] = A[i][j] + B[i][j]\n",
        "\n",
        "  return arr_C\n",
        "\n",
        "def scalarDivideMatrix(A, a):\n",
        "  for i in range(len(A)):\n",
        "    for j in range(len(A[0])):\n",
        "      A[i][j] = A[i][j]/a\n",
        "\n",
        "  return A\n",
        "\n",
        "def averageMatrix():\n",
        "  arr_C = randomMatrixMult()\n",
        "  for i in range(2, 5):\n",
        "    arr_C = addMatrix(arr_C, randomMatrixMult())\n",
        "  \n",
        "  return scalarDivideMatrix(arr_C, 5)\n",
        "\n",
        "def main():\n",
        "  print(averageMatrix())\n",
        "\n",
        "if __name__ == \"__main__\":\n",
        "  main()"
      ],
      "execution_count": 30,
      "outputs": [
        {
          "output_type": "stream",
          "text": [
            "[[2069.6, 1728.8], [2002.4, 1773.2]]\n"
          ],
          "name": "stdout"
        }
      ]
    },
    {
      "cell_type": "code",
      "metadata": {
        "id": "W-ACDVHbKjmh",
        "colab_type": "code",
        "colab": {
          "base_uri": "https://localhost:8080/",
          "height": 102
        },
        "outputId": "d0b159be-0c3c-4b1f-f6e3-68fea2af90d8"
      },
      "source": [
        "import numpy, csv\n",
        "\n",
        "def transposeMatrix(M):\n",
        "  A = numpy.asarray(M)\n",
        "  numpy.savetxt(\"Matrix.csv\", A, delimiter=\",\")\n",
        "\n",
        "  A = numpy.array(list(csv.reader(open(\"Matrix.csv\", \"rt\"), delimiter=\",\"))).astype(\"float\")\n",
        "  T = [[0 for i in range(len(A))] for j in range(len(A[0]))]\n",
        "  for i in range(len(A)):\n",
        "    for j in range(len(A[0])):\n",
        "      T[j][i] = A[i][j]\n",
        "\n",
        "  return T\n",
        "\n",
        "def main():\n",
        "  M = averageMatrix()\n",
        "  print(\"Original Matrix:\")\n",
        "  print(M)\n",
        "  print(\"\\nTranspose Matrix:\")\n",
        "  print(transposeMatrix(M))\n",
        "\n",
        "if __name__ == \"__main__\":\n",
        "  main()"
      ],
      "execution_count": 44,
      "outputs": [
        {
          "output_type": "stream",
          "text": [
            "Original Matrix:\n",
            "[[1894.4, 1157.8], [2397.2, 1060.2]]\n",
            "\n",
            "Transpose Matrix:\n",
            "[[1894.4, 2397.2], [1157.8, 1060.2]]\n"
          ],
          "name": "stdout"
        }
      ]
    },
    {
      "cell_type": "code",
      "metadata": {
        "id": "QAZSyesUOL-Y",
        "colab_type": "code",
        "colab": {}
      },
      "source": [
        ""
      ],
      "execution_count": null,
      "outputs": []
    }
  ]
}