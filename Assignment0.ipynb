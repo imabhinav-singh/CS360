{
  "nbformat": 4,
  "nbformat_minor": 0,
  "metadata": {
    "colab": {
      "name": "Assignment0.ipynb",
      "provenance": [],
      "collapsed_sections": [],
      "authorship_tag": "ABX9TyMiB2sHqjnKTw6H+VK2KBEo",
      "include_colab_link": true
    },
    "kernelspec": {
      "name": "python3",
      "display_name": "Python 3"
    }
  },
  "cells": [
    {
      "cell_type": "markdown",
      "metadata": {
        "id": "view-in-github",
        "colab_type": "text"
      },
      "source": [
        "<a href=\"https://colab.research.google.com/github/imabhinav-singh/CS360/blob/master/Assignment0.ipynb\" target=\"_parent\"><img src=\"https://colab.research.google.com/assets/colab-badge.svg\" alt=\"Open In Colab\"/></a>"
      ]
    },
    {
      "cell_type": "markdown",
      "metadata": {
        "id": "z9yi_R6k00u4",
        "colab_type": "text"
      },
      "source": [
        "Question 1:- \n",
        "#Write a python program to get the Python version you are using"
      ]
    },
    {
      "cell_type": "code",
      "metadata": {
        "id": "Zit6IxJg-rTS",
        "colab_type": "code",
        "colab": {
          "base_uri": "https://localhost:8080/",
          "height": 34
        },
        "outputId": "048642fd-c2fc-4f17-dc57-dabd6d21baca"
      },
      "source": [
        "import platform\n",
        "print(platform.python_version())"
      ],
      "execution_count": null,
      "outputs": [
        {
          "output_type": "stream",
          "text": [
            "3.6.9\n"
          ],
          "name": "stdout"
        }
      ]
    },
    {
      "cell_type": "markdown",
      "metadata": {
        "id": "50ZgNFD71EeP",
        "colab_type": "text"
      },
      "source": [
        "Question 2:- \n",
        "#Write a Python program to locate Python site-packages"
      ]
    },
    {
      "cell_type": "code",
      "metadata": {
        "id": "Zei4ILOu--vy",
        "colab_type": "code",
        "colab": {
          "base_uri": "https://localhost:8080/",
          "height": 68
        },
        "outputId": "0506fb5d-dd29-4d9d-d086-274b1148c348"
      },
      "source": [
        "import site\n",
        "site.getsitepackages()"
      ],
      "execution_count": null,
      "outputs": [
        {
          "output_type": "execute_result",
          "data": {
            "text/plain": [
              "['/usr/local/lib/python3.6/dist-packages',\n",
              " '/usr/lib/python3/dist-packages',\n",
              " '/usr/lib/python3.6/dist-packages']"
            ]
          },
          "metadata": {
            "tags": []
          },
          "execution_count": 2
        }
      ]
    },
    {
      "cell_type": "markdown",
      "metadata": {
        "id": "gi7p89sD1MhC",
        "colab_type": "text"
      },
      "source": [
        "Question 3:-\n",
        "#Write a python program to get the path and name of the file that is currently executing"
      ]
    },
    {
      "cell_type": "code",
      "metadata": {
        "id": "W9nE2WpfAMOr",
        "colab_type": "code",
        "colab": {
          "base_uri": "https://localhost:8080/",
          "height": 51
        },
        "outputId": "996a5dd8-bfab-4ac9-f786-09e75d726935"
      },
      "source": [
        "import inspect, os\n",
        "print(inspect.getfile(inspect.currentframe()))\n",
        "print(os.path.dirname(os.path.abspath(inspect.getfile(inspect.currentframe()))))"
      ],
      "execution_count": 3,
      "outputs": [
        {
          "output_type": "stream",
          "text": [
            "<ipython-input-3-999536cf70d4>\n",
            "/content\n"
          ],
          "name": "stdout"
        }
      ]
    },
    {
      "cell_type": "markdown",
      "metadata": {
        "id": "Vg08UZmX1RzJ",
        "colab_type": "text"
      },
      "source": [
        "Question 4:- \n",
        "#Write a python program to randomly generate two matrices of size [2x3 and 3x2] and do the matrix multiplication using the two generated matrices. (Say A = BC)"
      ]
    },
    {
      "cell_type": "code",
      "metadata": {
        "id": "G1d3x1X7C9P9",
        "colab_type": "code",
        "colab": {
          "base_uri": "https://localhost:8080/",
          "height": 51
        },
        "outputId": "25341bc0-2333-4e5c-93be-5a573004cecd"
      },
      "source": [
        "import numpy\n",
        "\n",
        "def randomMatrixMult():\n",
        "  #create matrices with random values\n",
        "  arr_A = numpy.random.randint(1, 50, size=(2, 3))\n",
        "  arr_B = numpy.random.randint(1, 50, size=(3, 2))\n",
        "\n",
        "  #multiplication of matrices\n",
        "  return numpy.dot(arr_A, arr_B)\n",
        "\n",
        "def main():\n",
        "  print(randomMatrixMult())\n",
        "\n",
        "if __name__ == \"__main__\":\n",
        "  main()"
      ],
      "execution_count": 8,
      "outputs": [
        {
          "output_type": "stream",
          "text": [
            "[[ 662 1380]\n",
            " [ 394  870]]\n"
          ],
          "name": "stdout"
        }
      ]
    },
    {
      "cell_type": "markdown",
      "metadata": {
        "id": "fVCwvA9Q1Ypd",
        "colab_type": "text"
      },
      "source": [
        "Question 5:-\n",
        "#Use a for loop to implement the above question five times and thereafter take the average of all the five matrices and display the result."
      ]
    },
    {
      "cell_type": "code",
      "metadata": {
        "id": "L4Q6kwplHOb_",
        "colab_type": "code",
        "colab": {
          "base_uri": "https://localhost:8080/",
          "height": 51
        },
        "outputId": "4a2ff33c-b395-42eb-93e3-6231f95f6214"
      },
      "source": [
        "def averageMatrix():\n",
        "  arr_C = randomMatrixMult()\n",
        "  for i in range(2, 5):\n",
        "    arr_C += randomMatrixMult()\n",
        "  \n",
        "  return arr_C/5\n",
        "\n",
        "def main():\n",
        "  print(averageMatrix())\n",
        "\n",
        "if __name__ == \"__main__\":\n",
        "  main()"
      ],
      "execution_count": 10,
      "outputs": [
        {
          "output_type": "stream",
          "text": [
            "[[1449.6 1725.6]\n",
            " [1490.8 1733. ]]\n"
          ],
          "name": "stdout"
        }
      ]
    },
    {
      "cell_type": "markdown",
      "metadata": {
        "id": "l1i5WGL11ff1",
        "colab_type": "text"
      },
      "source": [
        "Question 6:-\n",
        "#Write a program to transfer the matrix (generated in question 5) to the csv file and then read the same matrix and display the transposition of it."
      ]
    },
    {
      "cell_type": "code",
      "metadata": {
        "id": "W-ACDVHbKjmh",
        "colab_type": "code",
        "colab": {
          "base_uri": "https://localhost:8080/",
          "height": 136
        },
        "outputId": "1b7d775f-260d-4351-8878-6ac1ac082aca"
      },
      "source": [
        "import csv\n",
        "def transposeMatrix(M):\n",
        "  numpy.savetxt(\"Matrix.csv\", M, delimiter=\",\")\n",
        "\n",
        "  A = numpy.array(list(csv.reader(open(\"Matrix.csv\", \"rt\"), delimiter=\",\"))).astype(\"float\")\n",
        "  return A.transpose()\n",
        "\n",
        "def main():\n",
        "  M = averageMatrix()\n",
        "  print(\"Original Matrix:\")\n",
        "  print(M)\n",
        "  print(\"\\nTranspose Matrix:\")\n",
        "  print(transposeMatrix(M))\n",
        "\n",
        "if __name__ == \"__main__\":\n",
        "  main()"
      ],
      "execution_count": 12,
      "outputs": [
        {
          "output_type": "stream",
          "text": [
            "Original Matrix:\n",
            "[[1601.  1784.2]\n",
            " [1893.2 2020.8]]\n",
            "\n",
            "Transpose Matrix:\n",
            "[[1601.  1893.2]\n",
            " [1784.2 2020.8]]\n"
          ],
          "name": "stdout"
        }
      ]
    },
    {
      "cell_type": "markdown",
      "metadata": {
        "id": "Y9D9zZXg1lwY",
        "colab_type": "text"
      },
      "source": [
        "Question 7:-\n",
        "#Write a program to find the mean, mode, and median of the above-mentioned matrix."
      ]
    },
    {
      "cell_type": "code",
      "metadata": {
        "id": "QAZSyesUOL-Y",
        "colab_type": "code",
        "colab": {
          "base_uri": "https://localhost:8080/",
          "height": 119
        },
        "outputId": "93f658b7-aaa0-4cc7-cb17-e13face8824a"
      },
      "source": [
        "from scipy import stats\n",
        "\n",
        "A = transposeMatrix(averageMatrix())\n",
        "print(\"Matrix is: \\n\", A)\n",
        "\n",
        "#calculate mean\n",
        "print(\"Mean is: \", numpy.mean(A))\n",
        "\n",
        "#calculate median\n",
        "print(\"Median is: \", numpy.median(A))\n",
        "\n",
        "#calculate mode\n",
        "print(\"Mode is: \", stats.mode(A.reshape(1,4))[0])"
      ],
      "execution_count": 23,
      "outputs": [
        {
          "output_type": "stream",
          "text": [
            "Matrix is: \n",
            " [[ 940.2 1433.2]\n",
            " [1703.2 2641.2]]\n",
            "Mean is:  1679.45\n",
            "Median is:  1568.2\n",
            "Mode is:  [[ 940.2 1433.2 1703.2 2641.2]]\n"
          ],
          "name": "stdout"
        }
      ]
    },
    {
      "cell_type": "markdown",
      "metadata": {
        "id": "qE-uVgWe1r2L",
        "colab_type": "text"
      },
      "source": [
        "Question 8:-\n",
        "#Write a program to print the upper triangle of the matrix"
      ]
    },
    {
      "cell_type": "code",
      "metadata": {
        "id": "QtGF7jl7olYs",
        "colab_type": "code",
        "colab": {
          "base_uri": "https://localhost:8080/",
          "height": 119
        },
        "outputId": "8c60aa7a-a845-49aa-c338-3e7c239eb5ea"
      },
      "source": [
        "A = transposeMatrix(averageMatrix())\n",
        "print(\"Matrix is: \\n\", A)\n",
        "\n",
        "#calculate upper triangular matrix\n",
        "print(\"Upper triangular matrix is: \\n\", numpy.triu(A)) "
      ],
      "execution_count": 24,
      "outputs": [
        {
          "output_type": "stream",
          "text": [
            "Matrix is: \n",
            " [[1557.6 1510.6]\n",
            " [1598.2 1402.8]]\n",
            "Upper triangular matrix is: \n",
            " [[1557.6 1510.6]\n",
            " [   0.  1402.8]]\n"
          ],
          "name": "stdout"
        }
      ]
    },
    {
      "cell_type": "markdown",
      "metadata": {
        "id": "J6HlHY091w9E",
        "colab_type": "text"
      },
      "source": [
        "Question 9:-\n",
        "#Write a Python program to read specific columns of a given CSV file and print the content of the columns. (Column number should be given by the user)"
      ]
    },
    {
      "cell_type": "code",
      "metadata": {
        "id": "bR_Z8DUisk6p",
        "colab_type": "code",
        "colab": {
          "base_uri": "https://localhost:8080/",
          "height": 85
        },
        "outputId": "2f1beaab-d2ff-4007-ea80-d6f3610ee28a"
      },
      "source": [
        "import csv\n",
        "\n",
        "def displayColumn(filename, columnNumber):\n",
        "  with open(filename) as csv_file:\n",
        "    csv_reader = csv.reader(csv_file, delimiter=\",\")\n",
        "    for row in  csv_reader:\n",
        "      print(row[columnNumber])\n",
        "\n",
        "def main():\n",
        "  filename = input(\"Enter filename:- \")\n",
        "  cNo = input(\"Enter column number:- \")\n",
        "  displayColumn(filename, int(cNo))\n",
        "\n",
        "if __name__ == \"__main__\":\n",
        "  main()"
      ],
      "execution_count": 27,
      "outputs": [
        {
          "output_type": "stream",
          "text": [
            "Enter filename:- Matrix.csv\n",
            "Enter column number:- 1\n",
            "1.598200000000000045e+03\n",
            "1.402799999999999955e+03\n"
          ],
          "name": "stdout"
        }
      ]
    },
    {
      "cell_type": "markdown",
      "metadata": {
        "id": "txhU7GDQ13sp",
        "colab_type": "text"
      },
      "source": [
        "Question 10:-\n",
        "#Write a Python program to replace a user-defined number present in the CSV file by the character ‘A’."
      ]
    },
    {
      "cell_type": "code",
      "metadata": {
        "id": "4yqYGdy8wQf1",
        "colab_type": "code",
        "colab": {
          "base_uri": "https://localhost:8080/",
          "height": 51
        },
        "outputId": "4de87a7c-0584-481a-c355-9a1272e0affd"
      },
      "source": [
        "def replaceChar(filename, pChar, nChar):\n",
        "  text = open(filename, \"r\")\n",
        "  text = ''.join([i for i in text]).replace(nChar, pChar)\n",
        "  x = open(filename,\"w\")\n",
        "  x.writelines(text)\n",
        "  x.close()\n",
        "\n",
        "def main():\n",
        "  filename = input(\"Enter filename:- \")\n",
        "  pChar = input(\"Enter character to be replaced:- \")\n",
        "  replaceChar(filename, pChar, \"A\")\n",
        "\n",
        "if __name__ == \"__main__\":\n",
        "  main()"
      ],
      "execution_count": 29,
      "outputs": [
        {
          "output_type": "stream",
          "text": [
            "Enter filename:- Matrix.csv\n",
            "Enter character to be replaced:- 1\n"
          ],
          "name": "stdout"
        }
      ]
    }
  ]
}