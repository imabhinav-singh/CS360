{
  "nbformat": 4,
  "nbformat_minor": 0,
  "metadata": {
    "colab": {
      "name": "Assignment3.ipynb",
      "provenance": [],
      "collapsed_sections": [],
      "authorship_tag": "ABX9TyPMdh2w1jR6sgQ+FEFNQGAo",
      "include_colab_link": true
    },
    "kernelspec": {
      "name": "python3",
      "display_name": "Python 3"
    }
  },
  "cells": [
    {
      "cell_type": "markdown",
      "metadata": {
        "id": "view-in-github",
        "colab_type": "text"
      },
      "source": [
        "<a href=\"https://colab.research.google.com/github/imabhinav-singh/CS360/blob/master/Assignment3.ipynb\" target=\"_parent\"><img src=\"https://colab.research.google.com/assets/colab-badge.svg\" alt=\"Open In Colab\"/></a>"
      ]
    },
    {
      "cell_type": "markdown",
      "metadata": {
        "id": "boUxk43pKKWK",
        "colab_type": "text"
      },
      "source": [
        "#Simple Linear Regression (one feature) \n",
        "  via Ordinary Least Square Method"
      ]
    },
    {
      "cell_type": "code",
      "metadata": {
        "id": "PSOL6_-cvrWi",
        "colab_type": "code",
        "colab": {
          "base_uri": "https://localhost:8080/",
          "height": 347
        },
        "outputId": "71d8f031-e8de-45f3-ed3a-990253be5170"
      },
      "source": [
        "import pandas as pd\n",
        "import numpy as np\n",
        "from sklearn.model_selection import train_test_split\n",
        "import matplotlib.pyplot as plt  \n",
        "\n",
        "def estimate_coef(x, y):\n",
        "  n = np.size(x)\n",
        "  m_x, m_y = np.mean(x), np.mean(y)\n",
        "  cov_xy = np.sum(x*y) - n*m_x*m_y\n",
        "  var_x = np.sum(x*x) - n*m_x*m_x\n",
        "  b_1 = cov_xy / var_x\n",
        "  b_0 = m_y - b_1*m_x\n",
        "  return (b_0, b_1)\n",
        "\n",
        "def plot_regression_line(x, y, b): \n",
        "  plt.scatter(x, y, color = \"m\", marker = \"o\", s = 30) \n",
        "  y_pred = b[0] + b[1]*x \n",
        "  plt.plot(x, y_pred, color = \"g\") \n",
        "  plt.xlabel('x') \n",
        "  plt.ylabel('y') \n",
        "  plt.show() \n",
        "\n",
        "def calc_MAE(x, y, b):\n",
        "  y_pred = b[0] + b[1]*x \n",
        "  error = np.abs(y - y_pred)\n",
        "  return np.mean(error)\n",
        "\n",
        "\n",
        "dataset = pd.read_excel('slr06.xls',header=0)\n",
        "\n",
        "X = dataset['X'].values\n",
        "Y = dataset['Y'].values\n",
        "\n",
        "x_train, x_test, y_train, y_test = train_test_split(X, Y, test_size=0.4, random_state=0)\n",
        "x_test, x_valid, y_test, y_valid = train_test_split(x_test, y_test, test_size=0.5, random_state=0)\n",
        "\n",
        "b = estimate_coef(x_train, y_train)\n",
        "plot_regression_line(X, Y, b)\n",
        "\n",
        "print(\"MAE for training set: \"+str(calc_MAE(x_train, y_train, b)))\n",
        "print(\"MAE for test set: \"+str(calc_MAE(x_test, y_test, b)))\n",
        "print(\"MAE for validation set: \"+str(calc_MAE(x_valid, y_valid, b)))"
      ],
      "execution_count": 16,
      "outputs": [
        {
          "output_type": "stream",
          "text": [
            "*** No CODEPAGE record, no encoding_override: will use 'ascii'\n"
          ],
          "name": "stdout"
        },
        {
          "output_type": "display_data",
          "data": {
            "image/png": "[encoded data removed]",
            "text/plain": [
              "<Figure size 432x288 with 1 Axes>"
            ]
          },
          "metadata": {
            "tags": [],
            "needs_background": "light"
          }
        },
        {
          "output_type": "stream",
          "text": [
            "MAE for training set: 29.748464938891495\n",
            "MAE for test set: 24.434456342162736\n",
            "MAE for validation set: 28.97172818523063\n"
          ],
          "name": "stdout"
        }
      ]
    },
    {
      "cell_type": "markdown",
      "metadata": {
        "id": "ekOEJu5gKiso",
        "colab_type": "text"
      },
      "source": [
        "#Simple Linear Regression (one feature) \n",
        "  via Gradient Descent Method"
      ]
    },
    {
      "cell_type": "code",
      "metadata": {
        "id": "JK_zPBP7x-Eo",
        "colab_type": "code",
        "colab": {
          "base_uri": "https://localhost:8080/",
          "height": 347
        },
        "outputId": "e3e525fd-5f9f-42d5-adf4-96fc7bcb8e0a"
      },
      "source": [
        "import pandas as pd\n",
        "import numpy as np\n",
        "from sklearn.model_selection import train_test_split\n",
        "import matplotlib.pyplot as plt  \n",
        "\n",
        "def estimate_coef(x, y, learning_rate=0.0001, b_0=0, b_1=1):\n",
        "  iterations = 100000\n",
        "\n",
        "  for i in range(iterations):\n",
        "    temp_b0, temp_b1 = b_0, b_1\n",
        "    b_0 = b_0 - learning_rate*np.mean(temp_b0 + temp_b1*x - y)\n",
        "    b_1 = b_1 - learning_rate*np.mean((temp_b0 + temp_b1*x - y)*x)\n",
        "    if cost(x, y, (b_0, b_1)) <= 0.0000001: \n",
        "      break\n",
        "\n",
        "  return (b_0, b_1)\n",
        "\n",
        "def plot_regression_line(x, y, b): \n",
        "    plt.scatter(x, y, color = \"m\", marker = \"o\", s = 30) \n",
        "    y_pred = b[0] + b[1]*x \n",
        "    plt.plot(x, y_pred, color = \"g\") \n",
        "    plt.xlabel('x') \n",
        "    plt.ylabel('y') \n",
        "    plt.show() \n",
        "\n",
        "def calc_MAE(x, y, b):\n",
        "  y_pred = b[0] + b[1]*x \n",
        "  error = np.abs(y - y_pred)\n",
        "  return np.mean(error)\n",
        "\n",
        "def cost(x, y, b):\n",
        "  n = np.size(x)\n",
        "  y_pred = b[0] + b[1]*x \n",
        "  error = (y_pred - y)*(y_pred - y)\n",
        "  return np.mean(error)/2\n",
        "\n",
        "\n",
        "dataset = pd.read_excel('slr06.xls',header=0)\n",
        "\n",
        "X = dataset['X'].values\n",
        "Y = dataset['Y'].values\n",
        "\n",
        "x_train, x_test, y_train, y_test = train_test_split(X, Y, test_size=0.4, random_state=0)\n",
        "x_test, x_valid, y_test, y_valid = train_test_split(x_test, y_test, test_size=0.5, random_state=0)\n",
        "\n",
        "b = estimate_coef(x_train, y_train)\n",
        "plot_regression_line(X, Y, b)\n",
        "\n",
        "print(\"MAE for training set: \"+str(calc_MAE(x_train, y_train, b)))\n",
        "print(\"MAE for test set: \"+str(calc_MAE(x_test, y_test, b)))\n",
        "print(\"MAE for validation set: \"+str(calc_MAE(x_valid, y_valid, b)))"
      ],
      "execution_count": null,
      "outputs": [
        {
          "output_type": "stream",
          "text": [
            "*** No CODEPAGE record, no encoding_override: will use 'ascii'\n"
          ],
          "name": "stdout"
        },
        {
          "output_type": "display_data",
          "data": {
            "image/png": "[encoded data removed]",
            "text/plain": [
              "<Figure size 432x288 with 1 Axes>"
            ]
          },
          "metadata": {
            "tags": [],
            "needs_background": "light"
          }
        },
        {
          "output_type": "stream",
          "text": [
            "MAE for training set: 29.734557694588364\n",
            "MAE for test set: 24.457669681528195\n",
            "MAE for validation set: 28.99694102609038\n"
          ],
          "name": "stdout"
        }
      ]
    },
    {
      "cell_type": "markdown",
      "metadata": {
        "id": "pN_uvRokKnD2",
        "colab_type": "text"
      },
      "source": [
        "#Multiple Linear Regression\n",
        "  via gradient Descent Method"
      ]
    },
    {
      "cell_type": "code",
      "metadata": {
        "id": "wJPMhycgVewb",
        "colab_type": "code",
        "colab": {
          "base_uri": "https://localhost:8080/",
          "height": 68
        },
        "outputId": "e66d41e8-852b-43eb-c765-fc14da0a8817"
      },
      "source": [
        "from sklearn import datasets\n",
        "import pandas as pd\n",
        "import numpy as np\n",
        "from sklearn.model_selection import train_test_split\n",
        "import matplotlib.pyplot as plt  \n",
        "\n",
        "def estimate_coef(x, y, k, learning_rate=0.0001, random=False):\n",
        "  iterations = 1000\n",
        "  \n",
        "  b = np.zeros(k, dtype=int)\n",
        "  if random:\n",
        "    b = np.random.rand(k)\n",
        "    \n",
        "  for i in range(iterations):\n",
        "    temp_b = b\n",
        "    for j in range(k):\n",
        "      b[j] = b[j] - learning_rate*np.mean((np.sum(x*temp_b, axis=1) - y)*x[:, j])\n",
        "\n",
        "  return b\n",
        "\n",
        "def calc_MAE(x, y, b):\n",
        "  y_pred = np.sum(x*b, axis=1)\n",
        "  error = np.abs(y - y_pred)\n",
        "  return np.mean(error)\n",
        "\n",
        "\n",
        "boston = datasets.load_boston(return_X_y=False)\n",
        "k = np.size(boston['feature_names']) + 1\n",
        "X, Y = boston['data'], boston['target']\n",
        "X = np.column_stack(([1 for i in range(X.shape[0])], X))\n",
        "\n",
        "x_train, x_test, y_train, y_test = train_test_split(X, Y, test_size=0.4, random_state=0)\n",
        "x_test, x_valid, y_test, y_valid = train_test_split(x_test, y_test, test_size=0.5, random_state=0)\n",
        "\n",
        "b = estimate_coef(x_train, y_train, k)\n",
        "\n",
        "print(\"MAE for training set: \"+str(calc_MAE(x_train, y_train, b)))\n",
        "print(\"MAE for test set: \"+str(calc_MAE(x_test, y_test, b)))\n",
        "print(\"MAE for validation set: \"+str(calc_MAE(x_valid, y_valid, b)))\n"
      ],
      "execution_count": null,
      "outputs": [
        {
          "output_type": "stream",
          "text": [
            "MAE for training set: 22.74653465346535\n",
            "MAE for test set: 22.47029702970297\n",
            "MAE for validation set: 21.95980392156863\n"
          ],
          "name": "stdout"
        }
      ]
    }
  ]
}