{
  "nbformat": 4,
  "nbformat_minor": 0,
  "metadata": {
    "colab": {
      "name": "Assignment1.ipynb",
      "provenance": [],
      "collapsed_sections": [],
      "authorship_tag": "ABX9TyMgn4PLxj6IyL5srhdCYmE4",
      "include_colab_link": true
    },
    "kernelspec": {
      "name": "python3",
      "display_name": "Python 3"
    }
  },
  "cells": [
    {
      "cell_type": "markdown",
      "metadata": {
        "id": "view-in-github",
        "colab_type": "text"
      },
      "source": [
        "<a href=\"https://colab.research.google.com/github/imabhinav-singh/CS360/blob/master/Assignment1.ipynb\" target=\"_parent\"><img src=\"https://colab.research.google.com/assets/colab-badge.svg\" alt=\"Open In Colab\"/></a>"
      ]
    },
    {
      "cell_type": "markdown",
      "metadata": {
        "id": "ExfSN9MKt7Vh",
        "colab_type": "text"
      },
      "source": [
        "#Part 1"
      ]
    },
    {
      "cell_type": "markdown",
      "metadata": {
        "id": "5VE2Uj7kt_7G",
        "colab_type": "text"
      },
      "source": [
        "Question 1: Write a NumPy program to create an array of 10 zeros, 10 ones, 10 fives."
      ]
    },
    {
      "cell_type": "code",
      "metadata": {
        "id": "SbBsSPxQELbh",
        "colab_type": "code",
        "colab": {
          "base_uri": "https://localhost:8080/",
          "height": 34
        },
        "outputId": "f0b064fd-3381-49eb-b8cc-9063aa9710dd"
      },
      "source": [
        "import numpy as np\n",
        "arr = np.hstack((np.hstack((np.zeros((5,)), np.full((5,), 1, dtype=int))), np.full((5,), 5, dtype=int)))\n",
        "print(arr)"
      ],
      "execution_count": null,
      "outputs": [
        {
          "output_type": "stream",
          "text": [
            "[0. 0. 0. 0. 0. 1. 1. 1. 1. 1. 5. 5. 5. 5. 5.]\n"
          ],
          "name": "stdout"
        }
      ]
    },
    {
      "cell_type": "markdown",
      "metadata": {
        "id": "V-zF6o-xuKpa",
        "colab_type": "text"
      },
      "source": [
        "Question 2: Write a NumPy program to create an array of all the even integers from 10 to 50."
      ]
    },
    {
      "cell_type": "code",
      "metadata": {
        "id": "1_uf366fFyCy",
        "colab_type": "code",
        "colab": {
          "base_uri": "https://localhost:8080/",
          "height": 34
        },
        "outputId": "c8e81b47-ccf8-4429-d3e4-e50bb152fb58"
      },
      "source": [
        "import numpy as np\n",
        "arr = np.arange(10, 52, 2)\n",
        "print(arr)"
      ],
      "execution_count": null,
      "outputs": [
        {
          "output_type": "stream",
          "text": [
            "[10 12 14 16 18 20 22 24 26 28 30 32 34 36 38 40 42 44 46 48 50]\n"
          ],
          "name": "stdout"
        }
      ]
    },
    {
      "cell_type": "markdown",
      "metadata": {
        "id": "HS-ZVqakuSzv",
        "colab_type": "text"
      },
      "source": [
        "Question 3: Write a NumPy program to generate a random number between 0 and\n",
        "1."
      ]
    },
    {
      "cell_type": "code",
      "metadata": {
        "id": "4SgyfdexK0a2",
        "colab_type": "code",
        "colab": {
          "base_uri": "https://localhost:8080/",
          "height": 68
        },
        "outputId": "fdbe54ed-3a26-4d4f-cbe7-205d2a39d1c4"
      },
      "source": [
        "import numpy as np\n",
        "\n",
        "def randArray():\n",
        "  return np.random.rand(3, 3)\n",
        "\n",
        "def main():\n",
        "  print(randArray())\n",
        "\n",
        "if __name__ == \"__main__\":\n",
        "  main()  "
      ],
      "execution_count": null,
      "outputs": [
        {
          "output_type": "stream",
          "text": [
            "[[0.65383799 0.76900618 0.57395681]\n",
            " [0.61613176 0.28464081 0.57742906]\n",
            " [0.68760667 0.33138829 0.75092747]]\n"
          ],
          "name": "stdout"
        }
      ]
    },
    {
      "cell_type": "markdown",
      "metadata": {
        "id": "pzDeH2pNuYhc",
        "colab_type": "text"
      },
      "source": [
        "Question 4: Write a NumPy program to save the matrix (generated in question 3) to a text file and load it."
      ]
    },
    {
      "cell_type": "code",
      "metadata": {
        "id": "BQj43Z2KL9xQ",
        "colab_type": "code",
        "colab": {}
      },
      "source": [
        "def main():\n",
        "  filename = open(\"matrix.txt\", \"w\")\n",
        "  filename.write(str(randArray()))\n",
        "  filename.close()\n",
        "\n",
        "if __name__ == \"__main__\":\n",
        "  main()"
      ],
      "execution_count": null,
      "outputs": []
    },
    {
      "cell_type": "markdown",
      "metadata": {
        "id": "hQkBHMw7uflI",
        "colab_type": "text"
      },
      "source": [
        "#Part 2"
      ]
    },
    {
      "cell_type": "markdown",
      "metadata": {
        "id": "-leo_DkWuhrv",
        "colab_type": "text"
      },
      "source": [
        "Question 1: Write a python program to read an image and save the image as a matrix to a .csv file using pandas."
      ]
    },
    {
      "cell_type": "code",
      "metadata": {
        "id": "ci-fsTH3UwA_",
        "colab_type": "code",
        "colab": {}
      },
      "source": [
        "from PIL import Image\n",
        "import pandas as pd\n",
        "import numpy as np\n",
        "\n",
        "img = Image.open('new_pic.jpeg')\n",
        "imgArr = np.array(img) \n",
        "pd.DataFrame(imgArr.reshape(imgArr.shape[0]*imgArr.shape[1], imgArr.shape[2])).to_csv('image_matrix.csv')"
      ],
      "execution_count": 23,
      "outputs": []
    },
    {
      "cell_type": "markdown",
      "metadata": {
        "id": "sFIf-e4Run3m",
        "colab_type": "text"
      },
      "source": [
        "Question 2: Write a program to import excel data from the .csv file\n",
        "(generated in question 1) by excluding the last row and last\n",
        "column."
      ]
    },
    {
      "cell_type": "code",
      "metadata": {
        "id": "UAl5fbtcfuf3",
        "colab_type": "code",
        "colab": {
          "base_uri": "https://localhost:8080/",
          "height": 272
        },
        "outputId": "a156af99-4ae2-4e70-96d8-544195609382"
      },
      "source": [
        "import pandas as pd\n",
        "csv_reader = pd.read_csv('image_matrix.csv', index_col=0, usecols=[1,2], skiprows=-1)\n",
        "print(csv_reader)"
      ],
      "execution_count": 26,
      "outputs": [
        {
          "output_type": "stream",
          "text": [
            "      1\n",
            "0      \n",
            "63  175\n",
            "63  175\n",
            "63  175\n",
            "63  176\n",
            "63  176\n",
            "..  ...\n",
            "2   106\n",
            "2   107\n",
            "2   107\n",
            "1   106\n",
            "1   106\n",
            "\n",
            "[167000 rows x 1 columns]\n"
          ],
          "name": "stdout"
        }
      ]
    },
    {
      "cell_type": "markdown",
      "metadata": {
        "id": "ck9wbM2iut09",
        "colab_type": "text"
      },
      "source": [
        "Question 3: Write a Pandas program to create the today's date."
      ]
    },
    {
      "cell_type": "code",
      "metadata": {
        "id": "DJRVC4U8hjMz",
        "colab_type": "code",
        "colab": {
          "base_uri": "https://localhost:8080/",
          "height": 51
        },
        "outputId": "b4e90f90-065e-415f-a4f6-b4bb62a4f2d0"
      },
      "source": [
        "import pandas as pd\n",
        "from datetime import date\n",
        "date_ = pd.to_datetime(str(date.today()), format='%Y-%m-%d')\n",
        "print(\"Today's date:\")\n",
        "print(date_)"
      ],
      "execution_count": 28,
      "outputs": [
        {
          "output_type": "stream",
          "text": [
            "Today's date:\n",
            "2020-08-22 00:00:00\n"
          ],
          "name": "stdout"
        }
      ]
    },
    {
      "cell_type": "markdown",
      "metadata": {
        "id": "HIWPGIRpu4H8",
        "colab_type": "text"
      },
      "source": [
        "#Part 3"
      ]
    },
    {
      "cell_type": "markdown",
      "metadata": {
        "id": "d5zO3mBvu8Si",
        "colab_type": "text"
      },
      "source": [
        "Question 1: Create a mini calculator to know the age of a person after\n",
        "putting the range (i.e. date of birth and current date)."
      ]
    },
    {
      "cell_type": "code",
      "metadata": {
        "id": "0RdytCaqo3mK",
        "colab_type": "code",
        "colab": {
          "base_uri": "https://localhost:8080/",
          "height": 68
        },
        "outputId": "c5239354-4e10-490d-8915-b7fab76e8852"
      },
      "source": [
        "from datetime import datetime\n",
        "dob = input('Enter date of birth: ')\n",
        "try:\n",
        "  dob = datetime.strptime(dob, '%Y, %m, %d')\n",
        "except ValueError:\n",
        "  print(\"Incorrect format. (use 2020, 08, 30)\")\n",
        "currd = input('Enter current date: ')\n",
        "try:\n",
        "  currd = datetime.strptime(currd, '%Y, %m, %d')\n",
        "except ValueError:\n",
        "  print(\"Incorrect format. (use 2020, 08, 30)\")\n",
        "diff = (currd - dob).total_seconds()\n",
        "year = int(diff / 31536000)\n",
        "diff %= 31536000\n",
        "months = int(diff / 2592000)\n",
        "diff %= 2592000\n",
        "days = int(diff / 86400)\n",
        "print(str(year)+\" years, \"+str(months)+\" months, and \"+str(days)+\" days old.\")"
      ],
      "execution_count": 40,
      "outputs": [
        {
          "output_type": "stream",
          "text": [
            "Enter date of birth: 2000, 10, 18\n",
            "Enter current date: 2020, 08, 22\n",
            "19 years, 10 months, and 13 days old.\n"
          ],
          "name": "stdout"
        }
      ]
    }
  ]
}